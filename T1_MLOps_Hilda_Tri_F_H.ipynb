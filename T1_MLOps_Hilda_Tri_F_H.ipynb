{
  "nbformat": 4,
  "nbformat_minor": 0,
  "metadata": {
    "colab": {
      "provenance": []
    },
    "kernelspec": {
      "name": "python3",
      "display_name": "Python 3"
    },
    "language_info": {
      "name": "python"
    }
  },
  "cells": [
    {
      "cell_type": "markdown",
      "source": [
        "\n",
        "\n",
        "##NAMA : Hilda Tri F H\n",
        "##NIM  : 22510207111023\n",
        "##Kelas : MLOps - A\n",
        "\n"
      ],
      "metadata": {
        "id": "sFLw6Yr1k6_b"
      }
    },
    {
      "cell_type": "code",
      "source": [
        "import pandas as pd\n",
        "import numpy as np"
      ],
      "metadata": {
        "id": "iefJw6rhfdT6"
      },
      "execution_count": 91,
      "outputs": []
    },
    {
      "cell_type": "markdown",
      "source": [
        "##Pengumpulan dan Persiapan Data:"
      ],
      "metadata": {
        "id": "F-_4S01Je_j3"
      }
    },
    {
      "cell_type": "code",
      "execution_count": 92,
      "metadata": {
        "colab": {
          "base_uri": "https://localhost:8080/"
        },
        "id": "ZaPcDuyWeprv",
        "outputId": "850fed25-b093-4ef6-c45e-a1f389c281ac"
      },
      "outputs": [
        {
          "output_type": "stream",
          "name": "stdout",
          "text": [
            "--2024-09-04 19:09:32--  https://gist.githubusercontent.com/netj/8836201/raw/6f9306ad21398ea43cba4f7d537619d0e07d5ae3/iris.csv\n",
            "Resolving gist.githubusercontent.com (gist.githubusercontent.com)... 185.199.108.133, 185.199.109.133, 185.199.111.133, ...\n",
            "Connecting to gist.githubusercontent.com (gist.githubusercontent.com)|185.199.108.133|:443... connected.\n",
            "HTTP request sent, awaiting response... 200 OK\n",
            "Length: 3975 (3.9K) [text/plain]\n",
            "Saving to: ‘iris.csv.2’\n",
            "\n",
            "\riris.csv.2            0%[                    ]       0  --.-KB/s               \riris.csv.2          100%[===================>]   3.88K  --.-KB/s    in 0s      \n",
            "\n",
            "2024-09-04 19:09:32 (39.3 MB/s) - ‘iris.csv.2’ saved [3975/3975]\n",
            "\n"
          ]
        }
      ],
      "source": [
        "!wget https://gist.githubusercontent.com/netj/8836201/raw/6f9306ad21398ea43cba4f7d537619d0e07d5ae3/iris.csv"
      ]
    },
    {
      "cell_type": "code",
      "source": [
        "data = pd.read_csv('iris.csv')"
      ],
      "metadata": {
        "id": "vJ7rFf9Zf9pK"
      },
      "execution_count": 93,
      "outputs": []
    },
    {
      "cell_type": "markdown",
      "source": [
        "##Cek isi dataset"
      ],
      "metadata": {
        "id": "TlI5lgxYhV-Y"
      }
    },
    {
      "cell_type": "code",
      "source": [
        "data.head()"
      ],
      "metadata": {
        "colab": {
          "base_uri": "https://localhost:8080/",
          "height": 206
        },
        "id": "NnqvWM7ifvGR",
        "outputId": "20f7643e-2128-4cac-bb46-e372bd09f4b3"
      },
      "execution_count": 94,
      "outputs": [
        {
          "output_type": "execute_result",
          "data": {
            "text/plain": [
              "   sepal.length  sepal.width  petal.length  petal.width variety\n",
              "0           5.1          3.5           1.4          0.2  Setosa\n",
              "1           4.9          3.0           1.4          0.2  Setosa\n",
              "2           4.7          3.2           1.3          0.2  Setosa\n",
              "3           4.6          3.1           1.5          0.2  Setosa\n",
              "4           5.0          3.6           1.4          0.2  Setosa"
            ],
            "text/html": [
              "\n",
              "  <div id=\"df-eb1e6a18-37f7-4cb9-b320-a3a26c1e2d8b\" class=\"colab-df-container\">\n",
              "    <div>\n",
              "<style scoped>\n",
              "    .dataframe tbody tr th:only-of-type {\n",
              "        vertical-align: middle;\n",
              "    }\n",
              "\n",
              "    .dataframe tbody tr th {\n",
              "        vertical-align: top;\n",
              "    }\n",
              "\n",
              "    .dataframe thead th {\n",
              "        text-align: right;\n",
              "    }\n",
              "</style>\n",
              "<table border=\"1\" class=\"dataframe\">\n",
              "  <thead>\n",
              "    <tr style=\"text-align: right;\">\n",
              "      <th></th>\n",
              "      <th>sepal.length</th>\n",
              "      <th>sepal.width</th>\n",
              "      <th>petal.length</th>\n",
              "      <th>petal.width</th>\n",
              "      <th>variety</th>\n",
              "    </tr>\n",
              "  </thead>\n",
              "  <tbody>\n",
              "    <tr>\n",
              "      <th>0</th>\n",
              "      <td>5.1</td>\n",
              "      <td>3.5</td>\n",
              "      <td>1.4</td>\n",
              "      <td>0.2</td>\n",
              "      <td>Setosa</td>\n",
              "    </tr>\n",
              "    <tr>\n",
              "      <th>1</th>\n",
              "      <td>4.9</td>\n",
              "      <td>3.0</td>\n",
              "      <td>1.4</td>\n",
              "      <td>0.2</td>\n",
              "      <td>Setosa</td>\n",
              "    </tr>\n",
              "    <tr>\n",
              "      <th>2</th>\n",
              "      <td>4.7</td>\n",
              "      <td>3.2</td>\n",
              "      <td>1.3</td>\n",
              "      <td>0.2</td>\n",
              "      <td>Setosa</td>\n",
              "    </tr>\n",
              "    <tr>\n",
              "      <th>3</th>\n",
              "      <td>4.6</td>\n",
              "      <td>3.1</td>\n",
              "      <td>1.5</td>\n",
              "      <td>0.2</td>\n",
              "      <td>Setosa</td>\n",
              "    </tr>\n",
              "    <tr>\n",
              "      <th>4</th>\n",
              "      <td>5.0</td>\n",
              "      <td>3.6</td>\n",
              "      <td>1.4</td>\n",
              "      <td>0.2</td>\n",
              "      <td>Setosa</td>\n",
              "    </tr>\n",
              "  </tbody>\n",
              "</table>\n",
              "</div>\n",
              "    <div class=\"colab-df-buttons\">\n",
              "\n",
              "  <div class=\"colab-df-container\">\n",
              "    <button class=\"colab-df-convert\" onclick=\"convertToInteractive('df-eb1e6a18-37f7-4cb9-b320-a3a26c1e2d8b')\"\n",
              "            title=\"Convert this dataframe to an interactive table.\"\n",
              "            style=\"display:none;\">\n",
              "\n",
              "  <svg xmlns=\"http://www.w3.org/2000/svg\" height=\"24px\" viewBox=\"0 -960 960 960\">\n",
              "    <path d=\"M120-120v-720h720v720H120Zm60-500h600v-160H180v160Zm220 220h160v-160H400v160Zm0 220h160v-160H400v160ZM180-400h160v-160H180v160Zm440 0h160v-160H620v160ZM180-180h160v-160H180v160Zm440 0h160v-160H620v160Z\"/>\n",
              "  </svg>\n",
              "    </button>\n",
              "\n",
              "  <style>\n",
              "    .colab-df-container {\n",
              "      display:flex;\n",
              "      gap: 12px;\n",
              "    }\n",
              "\n",
              "    .colab-df-convert {\n",
              "      background-color: #E8F0FE;\n",
              "      border: none;\n",
              "      border-radius: 50%;\n",
              "      cursor: pointer;\n",
              "      display: none;\n",
              "      fill: #1967D2;\n",
              "      height: 32px;\n",
              "      padding: 0 0 0 0;\n",
              "      width: 32px;\n",
              "    }\n",
              "\n",
              "    .colab-df-convert:hover {\n",
              "      background-color: #E2EBFA;\n",
              "      box-shadow: 0px 1px 2px rgba(60, 64, 67, 0.3), 0px 1px 3px 1px rgba(60, 64, 67, 0.15);\n",
              "      fill: #174EA6;\n",
              "    }\n",
              "\n",
              "    .colab-df-buttons div {\n",
              "      margin-bottom: 4px;\n",
              "    }\n",
              "\n",
              "    [theme=dark] .colab-df-convert {\n",
              "      background-color: #3B4455;\n",
              "      fill: #D2E3FC;\n",
              "    }\n",
              "\n",
              "    [theme=dark] .colab-df-convert:hover {\n",
              "      background-color: #434B5C;\n",
              "      box-shadow: 0px 1px 3px 1px rgba(0, 0, 0, 0.15);\n",
              "      filter: drop-shadow(0px 1px 2px rgba(0, 0, 0, 0.3));\n",
              "      fill: #FFFFFF;\n",
              "    }\n",
              "  </style>\n",
              "\n",
              "    <script>\n",
              "      const buttonEl =\n",
              "        document.querySelector('#df-eb1e6a18-37f7-4cb9-b320-a3a26c1e2d8b button.colab-df-convert');\n",
              "      buttonEl.style.display =\n",
              "        google.colab.kernel.accessAllowed ? 'block' : 'none';\n",
              "\n",
              "      async function convertToInteractive(key) {\n",
              "        const element = document.querySelector('#df-eb1e6a18-37f7-4cb9-b320-a3a26c1e2d8b');\n",
              "        const dataTable =\n",
              "          await google.colab.kernel.invokeFunction('convertToInteractive',\n",
              "                                                    [key], {});\n",
              "        if (!dataTable) return;\n",
              "\n",
              "        const docLinkHtml = 'Like what you see? Visit the ' +\n",
              "          '<a target=\"_blank\" href=https://colab.research.google.com/notebooks/data_table.ipynb>data table notebook</a>'\n",
              "          + ' to learn more about interactive tables.';\n",
              "        element.innerHTML = '';\n",
              "        dataTable['output_type'] = 'display_data';\n",
              "        await google.colab.output.renderOutput(dataTable, element);\n",
              "        const docLink = document.createElement('div');\n",
              "        docLink.innerHTML = docLinkHtml;\n",
              "        element.appendChild(docLink);\n",
              "      }\n",
              "    </script>\n",
              "  </div>\n",
              "\n",
              "\n",
              "<div id=\"df-b6783c80-0921-4f39-8353-06dfb41e84b6\">\n",
              "  <button class=\"colab-df-quickchart\" onclick=\"quickchart('df-b6783c80-0921-4f39-8353-06dfb41e84b6')\"\n",
              "            title=\"Suggest charts\"\n",
              "            style=\"display:none;\">\n",
              "\n",
              "<svg xmlns=\"http://www.w3.org/2000/svg\" height=\"24px\"viewBox=\"0 0 24 24\"\n",
              "     width=\"24px\">\n",
              "    <g>\n",
              "        <path d=\"M19 3H5c-1.1 0-2 .9-2 2v14c0 1.1.9 2 2 2h14c1.1 0 2-.9 2-2V5c0-1.1-.9-2-2-2zM9 17H7v-7h2v7zm4 0h-2V7h2v10zm4 0h-2v-4h2v4z\"/>\n",
              "    </g>\n",
              "</svg>\n",
              "  </button>\n",
              "\n",
              "<style>\n",
              "  .colab-df-quickchart {\n",
              "      --bg-color: #E8F0FE;\n",
              "      --fill-color: #1967D2;\n",
              "      --hover-bg-color: #E2EBFA;\n",
              "      --hover-fill-color: #174EA6;\n",
              "      --disabled-fill-color: #AAA;\n",
              "      --disabled-bg-color: #DDD;\n",
              "  }\n",
              "\n",
              "  [theme=dark] .colab-df-quickchart {\n",
              "      --bg-color: #3B4455;\n",
              "      --fill-color: #D2E3FC;\n",
              "      --hover-bg-color: #434B5C;\n",
              "      --hover-fill-color: #FFFFFF;\n",
              "      --disabled-bg-color: #3B4455;\n",
              "      --disabled-fill-color: #666;\n",
              "  }\n",
              "\n",
              "  .colab-df-quickchart {\n",
              "    background-color: var(--bg-color);\n",
              "    border: none;\n",
              "    border-radius: 50%;\n",
              "    cursor: pointer;\n",
              "    display: none;\n",
              "    fill: var(--fill-color);\n",
              "    height: 32px;\n",
              "    padding: 0;\n",
              "    width: 32px;\n",
              "  }\n",
              "\n",
              "  .colab-df-quickchart:hover {\n",
              "    background-color: var(--hover-bg-color);\n",
              "    box-shadow: 0 1px 2px rgba(60, 64, 67, 0.3), 0 1px 3px 1px rgba(60, 64, 67, 0.15);\n",
              "    fill: var(--button-hover-fill-color);\n",
              "  }\n",
              "\n",
              "  .colab-df-quickchart-complete:disabled,\n",
              "  .colab-df-quickchart-complete:disabled:hover {\n",
              "    background-color: var(--disabled-bg-color);\n",
              "    fill: var(--disabled-fill-color);\n",
              "    box-shadow: none;\n",
              "  }\n",
              "\n",
              "  .colab-df-spinner {\n",
              "    border: 2px solid var(--fill-color);\n",
              "    border-color: transparent;\n",
              "    border-bottom-color: var(--fill-color);\n",
              "    animation:\n",
              "      spin 1s steps(1) infinite;\n",
              "  }\n",
              "\n",
              "  @keyframes spin {\n",
              "    0% {\n",
              "      border-color: transparent;\n",
              "      border-bottom-color: var(--fill-color);\n",
              "      border-left-color: var(--fill-color);\n",
              "    }\n",
              "    20% {\n",
              "      border-color: transparent;\n",
              "      border-left-color: var(--fill-color);\n",
              "      border-top-color: var(--fill-color);\n",
              "    }\n",
              "    30% {\n",
              "      border-color: transparent;\n",
              "      border-left-color: var(--fill-color);\n",
              "      border-top-color: var(--fill-color);\n",
              "      border-right-color: var(--fill-color);\n",
              "    }\n",
              "    40% {\n",
              "      border-color: transparent;\n",
              "      border-right-color: var(--fill-color);\n",
              "      border-top-color: var(--fill-color);\n",
              "    }\n",
              "    60% {\n",
              "      border-color: transparent;\n",
              "      border-right-color: var(--fill-color);\n",
              "    }\n",
              "    80% {\n",
              "      border-color: transparent;\n",
              "      border-right-color: var(--fill-color);\n",
              "      border-bottom-color: var(--fill-color);\n",
              "    }\n",
              "    90% {\n",
              "      border-color: transparent;\n",
              "      border-bottom-color: var(--fill-color);\n",
              "    }\n",
              "  }\n",
              "</style>\n",
              "\n",
              "  <script>\n",
              "    async function quickchart(key) {\n",
              "      const quickchartButtonEl =\n",
              "        document.querySelector('#' + key + ' button');\n",
              "      quickchartButtonEl.disabled = true;  // To prevent multiple clicks.\n",
              "      quickchartButtonEl.classList.add('colab-df-spinner');\n",
              "      try {\n",
              "        const charts = await google.colab.kernel.invokeFunction(\n",
              "            'suggestCharts', [key], {});\n",
              "      } catch (error) {\n",
              "        console.error('Error during call to suggestCharts:', error);\n",
              "      }\n",
              "      quickchartButtonEl.classList.remove('colab-df-spinner');\n",
              "      quickchartButtonEl.classList.add('colab-df-quickchart-complete');\n",
              "    }\n",
              "    (() => {\n",
              "      let quickchartButtonEl =\n",
              "        document.querySelector('#df-b6783c80-0921-4f39-8353-06dfb41e84b6 button');\n",
              "      quickchartButtonEl.style.display =\n",
              "        google.colab.kernel.accessAllowed ? 'block' : 'none';\n",
              "    })();\n",
              "  </script>\n",
              "</div>\n",
              "\n",
              "    </div>\n",
              "  </div>\n"
            ],
            "application/vnd.google.colaboratory.intrinsic+json": {
              "type": "dataframe",
              "variable_name": "data",
              "summary": "{\n  \"name\": \"data\",\n  \"rows\": 150,\n  \"fields\": [\n    {\n      \"column\": \"sepal.length\",\n      \"properties\": {\n        \"dtype\": \"number\",\n        \"std\": 0.828066127977863,\n        \"min\": 4.3,\n        \"max\": 7.9,\n        \"num_unique_values\": 35,\n        \"samples\": [\n          6.2,\n          4.5,\n          5.6\n        ],\n        \"semantic_type\": \"\",\n        \"description\": \"\"\n      }\n    },\n    {\n      \"column\": \"sepal.width\",\n      \"properties\": {\n        \"dtype\": \"number\",\n        \"std\": 0.4358662849366982,\n        \"min\": 2.0,\n        \"max\": 4.4,\n        \"num_unique_values\": 23,\n        \"samples\": [\n          2.3,\n          4.0,\n          3.5\n        ],\n        \"semantic_type\": \"\",\n        \"description\": \"\"\n      }\n    },\n    {\n      \"column\": \"petal.length\",\n      \"properties\": {\n        \"dtype\": \"number\",\n        \"std\": 1.7652982332594662,\n        \"min\": 1.0,\n        \"max\": 6.9,\n        \"num_unique_values\": 43,\n        \"samples\": [\n          6.7,\n          3.8,\n          3.7\n        ],\n        \"semantic_type\": \"\",\n        \"description\": \"\"\n      }\n    },\n    {\n      \"column\": \"petal.width\",\n      \"properties\": {\n        \"dtype\": \"number\",\n        \"std\": 0.7622376689603465,\n        \"min\": 0.1,\n        \"max\": 2.5,\n        \"num_unique_values\": 22,\n        \"samples\": [\n          0.2,\n          1.2,\n          1.3\n        ],\n        \"semantic_type\": \"\",\n        \"description\": \"\"\n      }\n    },\n    {\n      \"column\": \"variety\",\n      \"properties\": {\n        \"dtype\": \"category\",\n        \"num_unique_values\": 3,\n        \"samples\": [\n          \"Setosa\",\n          \"Versicolor\",\n          \"Virginica\"\n        ],\n        \"semantic_type\": \"\",\n        \"description\": \"\"\n      }\n    }\n  ]\n}"
            }
          },
          "metadata": {},
          "execution_count": 94
        }
      ]
    },
    {
      "cell_type": "markdown",
      "source": [
        "##Missing value"
      ],
      "metadata": {
        "id": "ZQ3mGvufiJyl"
      }
    },
    {
      "cell_type": "code",
      "source": [
        "from sklearn.preprocessing import StandardScaler\n",
        "import pandas as pd\n",
        "\n",
        "missing_values = data.isnull().sum()\n",
        "print(\"\\nJumlah nilai yang hilang di setiap kolom:\\n\", missing_values)\n",
        "\n",
        "numeric_cols = data.select_dtypes(include=[np.number]).columns\n",
        "data[numeric_cols] = data[numeric_cols].fillna(data[numeric_cols].mean())\n",
        "\n",
        "missing_values_after = data.isnull().sum()\n",
        "print(\"\\nJumlah nilai yang hilang setelah pengisian:\\n\", missing_values_after)\n",
        "\n",
        "scaler = StandardScaler()\n",
        "data_scaled = pd.DataFrame(scaler.fit_transform(data[numeric_cols]), columns=numeric_cols)\n",
        "\n",
        "data_scaled['variety'] = data['variety']\n",
        "print(\"\\nData setelah normalisasi:\\n\", data_scaled.head())\n"
      ],
      "metadata": {
        "colab": {
          "base_uri": "https://localhost:8080/"
        },
        "id": "reviQ2bUhlyg",
        "outputId": "df664bfd-1884-479e-db90-0cf3e869a400"
      },
      "execution_count": 95,
      "outputs": [
        {
          "output_type": "stream",
          "name": "stdout",
          "text": [
            "\n",
            "Jumlah nilai yang hilang di setiap kolom:\n",
            " sepal.length    0\n",
            "sepal.width     0\n",
            "petal.length    0\n",
            "petal.width     0\n",
            "variety         0\n",
            "dtype: int64\n",
            "\n",
            "Jumlah nilai yang hilang setelah pengisian:\n",
            " sepal.length    0\n",
            "sepal.width     0\n",
            "petal.length    0\n",
            "petal.width     0\n",
            "variety         0\n",
            "dtype: int64\n",
            "\n",
            "Data setelah normalisasi:\n",
            "    sepal.length  sepal.width  petal.length  petal.width variety\n",
            "0     -0.900681     1.019004     -1.340227    -1.315444  Setosa\n",
            "1     -1.143017    -0.131979     -1.340227    -1.315444  Setosa\n",
            "2     -1.385353     0.328414     -1.397064    -1.315444  Setosa\n",
            "3     -1.506521     0.098217     -1.283389    -1.315444  Setosa\n",
            "4     -1.021849     1.249201     -1.340227    -1.315444  Setosa\n"
          ]
        }
      ]
    },
    {
      "cell_type": "markdown",
      "source": [
        "##Pelatihan Model"
      ],
      "metadata": {
        "id": "943P0grEkm4D"
      }
    },
    {
      "cell_type": "code",
      "source": [
        "import pandas as pd\n",
        "import numpy as np\n",
        "from sklearn.preprocessing import StandardScaler\n",
        "from sklearn.model_selection import train_test_split\n",
        "from sklearn.linear_model import LogisticRegression\n",
        "from sklearn.tree import DecisionTreeClassifier\n",
        "from sklearn.metrics import accuracy_score, classification_report, confusion_matrix\n",
        "from sklearn.neighbors import KNeighborsClassifier"
      ],
      "metadata": {
        "id": "P3TE8ppalmbc"
      },
      "execution_count": 96,
      "outputs": []
    },
    {
      "cell_type": "code",
      "source": [
        "X = data.iloc[:, :-1]\n",
        "y = data['variety']"
      ],
      "metadata": {
        "id": "paQEG1ENigeB"
      },
      "execution_count": 97,
      "outputs": []
    },
    {
      "cell_type": "code",
      "source": [
        "scaler = StandardScaler()\n",
        "X_scaled = scaler.fit_transform(X)\n",
        "\n",
        "X_train, X_test, y_train, y_test = train_test_split(X_scaled, y, test_size=0.2, random_state=42)"
      ],
      "metadata": {
        "id": "Fw5HCCPclWb2"
      },
      "execution_count": 98,
      "outputs": []
    },
    {
      "cell_type": "code",
      "source": [
        "#confersi label\n",
        "y_train = pd.factorize(y_train)[0]\n",
        "y_test = pd.factorize(y_test)[0]"
      ],
      "metadata": {
        "id": "TgG2iMGelbYZ"
      },
      "execution_count": 99,
      "outputs": []
    },
    {
      "cell_type": "markdown",
      "source": [
        "##Melatih Model Logistic Regression"
      ],
      "metadata": {
        "id": "Zpu1PfVil18X"
      }
    },
    {
      "cell_type": "code",
      "source": [
        "# Inisialisasi dan latih model Logistic Regression\n",
        "logreg_model = LogisticRegression(random_state=42)\n",
        "logreg_model.fit(X_train, y_train)\n",
        "\n",
        "y_pred_logreg = logreg_model.predict(X_test)\n",
        "\n",
        "# Evaluasi model\n",
        "print(\"Logistic Regression Accuracy:\", accuracy_score(y_test, y_pred_logreg))\n",
        "print(\"Classification Report:\\n\", classification_report(y_test, y_pred_logreg))\n",
        "print(\"Confusion Matrix:\\n\", confusion_matrix(y_test, y_pred_logreg))\n"
      ],
      "metadata": {
        "colab": {
          "base_uri": "https://localhost:8080/"
        },
        "id": "OzsPQU5Qlduo",
        "outputId": "fc922a2b-1b48-4b49-acee-6fc0bb8df369"
      },
      "execution_count": 100,
      "outputs": [
        {
          "output_type": "stream",
          "name": "stdout",
          "text": [
            "Logistic Regression Accuracy: 0.36666666666666664\n",
            "Classification Report:\n",
            "               precision    recall  f1-score   support\n",
            "\n",
            "           0       0.00      0.00      0.00         9\n",
            "           1       0.00      0.00      0.00        10\n",
            "           2       1.00      1.00      1.00        11\n",
            "\n",
            "    accuracy                           0.37        30\n",
            "   macro avg       0.33      0.33      0.33        30\n",
            "weighted avg       0.37      0.37      0.37        30\n",
            "\n",
            "Confusion Matrix:\n",
            " [[ 0  9  0]\n",
            " [10  0  0]\n",
            " [ 0  0 11]]\n"
          ]
        }
      ]
    },
    {
      "cell_type": "markdown",
      "source": [
        "##Melatih Model Decision Tree"
      ],
      "metadata": {
        "id": "zPcY65MHmCwR"
      }
    },
    {
      "cell_type": "code",
      "source": [
        "# Inisialisasi dan latih model Decision Tree\n",
        "tree_model = DecisionTreeClassifier(random_state=42)\n",
        "tree_model.fit(X_train, y_train)\n",
        "\n",
        "y_pred_tree = tree_model.predict(X_test)\n",
        "\n",
        "# Evaluasi model\n",
        "print(\"\\nDecision Tree Accuracy:\", accuracy_score(y_test, y_pred_tree))\n",
        "print(\"Classification Report:\\n\", classification_report(y_test, y_pred_tree))\n",
        "print(\"Confusion Matrix:\\n\", confusion_matrix(y_test, y_pred_tree))"
      ],
      "metadata": {
        "colab": {
          "base_uri": "https://localhost:8080/"
        },
        "id": "NJ93SvgNmALu",
        "outputId": "f9e60ef5-7d53-4de6-fe7b-a2901760a260"
      },
      "execution_count": 101,
      "outputs": [
        {
          "output_type": "stream",
          "name": "stdout",
          "text": [
            "\n",
            "Decision Tree Accuracy: 0.36666666666666664\n",
            "Classification Report:\n",
            "               precision    recall  f1-score   support\n",
            "\n",
            "           0       0.00      0.00      0.00         9\n",
            "           1       0.00      0.00      0.00        10\n",
            "           2       1.00      1.00      1.00        11\n",
            "\n",
            "    accuracy                           0.37        30\n",
            "   macro avg       0.33      0.33      0.33        30\n",
            "weighted avg       0.37      0.37      0.37        30\n",
            "\n",
            "Confusion Matrix:\n",
            " [[ 0  9  0]\n",
            " [10  0  0]\n",
            " [ 0  0 11]]\n"
          ]
        }
      ]
    },
    {
      "cell_type": "markdown",
      "source": [
        "##KNN (l K-Nearest Neighbors)"
      ],
      "metadata": {
        "id": "kHJog9BInbbg"
      }
    },
    {
      "cell_type": "code",
      "source": [
        "# Inisialisasi dan latih model K-Nearest Neighbors (KNN)\n",
        "knn_model = KNeighborsClassifier(n_neighbors=5)\n",
        "knn_model.fit(X_train, y_train)\n",
        "\n",
        "y_pred_knn = knn_model.predict(X_test)\n",
        "\n",
        "# Evaluasi model\n",
        "print(\"\\nK-Nearest Neighbors (KNN) Accuracy:\", accuracy_score(y_test, y_pred_knn))\n",
        "print(\"Classification Report:\\n\", classification_report(y_test, y_pred_knn))\n",
        "print(\"Confusion Matrix:\\n\", confusion_matrix(y_test, y_pred_knn))\n"
      ],
      "metadata": {
        "colab": {
          "base_uri": "https://localhost:8080/"
        },
        "id": "TeHczLCOmO7D",
        "outputId": "99c196bb-bc15-4b2f-ac97-a3c9d3adae30"
      },
      "execution_count": 102,
      "outputs": [
        {
          "output_type": "stream",
          "name": "stdout",
          "text": [
            "\n",
            "K-Nearest Neighbors (KNN) Accuracy: 0.36666666666666664\n",
            "Classification Report:\n",
            "               precision    recall  f1-score   support\n",
            "\n",
            "           0       0.00      0.00      0.00         9\n",
            "           1       0.00      0.00      0.00        10\n",
            "           2       1.00      1.00      1.00        11\n",
            "\n",
            "    accuracy                           0.37        30\n",
            "   macro avg       0.33      0.33      0.33        30\n",
            "weighted avg       0.37      0.37      0.37        30\n",
            "\n",
            "Confusion Matrix:\n",
            " [[ 0  9  0]\n",
            " [10  0  0]\n",
            " [ 0  0 11]]\n"
          ]
        }
      ]
    },
    {
      "cell_type": "markdown",
      "source": [
        "##Evaluasi Model"
      ],
      "metadata": {
        "id": "k8DNXd5ZpFBd"
      }
    },
    {
      "cell_type": "code",
      "source": [
        "import json\n",
        "from sklearn.metrics import accuracy_score, precision_score, recall_score, f1_score, classification_report\n",
        "\n",
        "def evaluate_model(y_test, y_pred, model_name):\n",
        "    accuracy = accuracy_score(y_test, y_pred)\n",
        "    precision = precision_score(y_test, y_pred, average='weighted')\n",
        "    recall = recall_score(y_test, y_pred, average='weighted')\n",
        "    f1 = f1_score(y_test, y_pred, average='weighted')\n",
        "\n",
        "    evaluation_results = {\n",
        "        \"Model\": model_name,\n",
        "        \"Accuracy\": accuracy,\n",
        "        \"Precision\": precision,\n",
        "        \"Recall\": recall,\n",
        "        \"F1 Score\": f1\n",
        "    }\n",
        "\n",
        "    return evaluation_results\n",
        "\n",
        "    logreg_results = evaluate_model(y_test, y_pred_logreg, \"Logistic Regression\")\n",
        "    tree_results = evaluate_model(y_test, y_pred_tree, \"Decision Tree\")\n",
        "    knn_results = evaluate_model(y_test, y_pred_knn, \"K-Nearest Neighbors\")\n",
        "\n",
        "    all_results = {\n",
        "    \"Logistic Regression\": logreg_results,\n",
        "    \"Decision Tree\": tree_results,\n",
        "    \"K-Nearest Neighbors\": knn_results\n",
        "}\n",
        "\n",
        "    with open(\"evaluation_results.json\", \"w\") as json_file:\n",
        "        json.dump(all_results, json_file, indent=4)\n",
        "\n",
        "    print(\"Evaluation results saved to evaluation_results.json\")\n",
        ""
      ],
      "metadata": {
        "id": "N0ILz1k5nmJS"
      },
      "execution_count": 103,
      "outputs": []
    },
    {
      "cell_type": "code",
      "source": [
        "import pandas as pd\n",
        "import numpy as np\n",
        "from sklearn.preprocessing import StandardScaler\n",
        "from sklearn.model_selection import train_test_split\n",
        "from sklearn.linear_model import LogisticRegression\n",
        "from sklearn.tree import DecisionTreeClassifier\n",
        "from sklearn.neighbors import KNeighborsClassifier\n",
        "from sklearn.metrics import accuracy_score, precision_score, recall_score, f1_score, classification_report\n",
        "\n",
        "# Mengevaluasi setiap model\n",
        "logreg_results = evaluate_model(y_test, y_pred_logreg, \"Logistic Regression\")\n",
        "tree_results = evaluate_model(y_test, y_pred_tree, \"Decision Tree\")\n",
        "knn_results = evaluate_model(y_test, y_pred_knn, \"K-Nearest Neighbors\")\n",
        "\n",
        "# Menggabungkan hasil evaluasi dari semua model\n",
        "all_results = {\n",
        "    \"Logistic Regression\": logreg_results,\n",
        "    \"Decision Tree\": tree_results,\n",
        "    \"K-Nearest Neighbors\": knn_results\n",
        "}\n",
        "\n",
        "# Menyimpan hasil evaluasi dalam format teks\n",
        "with open('model_evaluation_results.txt', 'w') as txt_file:\n",
        "    for model_name, results in all_results.items():\n",
        "        txt_file.write(f\"Model: {results['Model']}\\n\")\n",
        "        txt_file.write(f\"Accuracy: {results['Accuracy']:.4f}\\n\")\n",
        "        txt_file.write(f\"Precision: {results['Precision']:.4f}\\n\")\n",
        "        txt_file.write(f\"Recall: {results['Recall']:.4f}\\n\")\n",
        "        txt_file.write(f\"F1 Score: {results['F1 Score']:.4f}\\n\")\n",
        "        txt_file.write(\"\\n\")\n",
        "\n",
        "print(\"Hasil evaluasi model telah disimpan ke 'model_evaluation_results.txt'\")"
      ],
      "metadata": {
        "colab": {
          "base_uri": "https://localhost:8080/"
        },
        "id": "nqmXu_89pouq",
        "outputId": "141c749e-0cb9-4a87-90ce-d83e60c88512"
      },
      "execution_count": 104,
      "outputs": [
        {
          "output_type": "stream",
          "name": "stdout",
          "text": [
            "Hasil evaluasi model telah disimpan ke 'model_evaluation_results.txt'\n"
          ]
        }
      ]
    },
    {
      "cell_type": "markdown",
      "source": [
        "##Deployment Model"
      ],
      "metadata": {
        "id": "qn7VsJAR41jG"
      }
    },
    {
      "cell_type": "code",
      "source": [
        "import joblib\n",
        "# Menyimpan model Decision Tree\n",
        "joblib.dump(tree_model, 'tree_model.pkl')\n",
        "# Menyimpan model K-Nearest Neighbors\n",
        "joblib.dump(knn_model, 'knn_model.pkl')\n",
        "\n",
        "print(\"Model telah disimpan menggunakan joblib.\")"
      ],
      "metadata": {
        "colab": {
          "base_uri": "https://localhost:8080/"
        },
        "id": "whY74m0oqwyC",
        "outputId": "a6edae4a-5936-4ee4-812c-35aec5386062"
      },
      "execution_count": 105,
      "outputs": [
        {
          "output_type": "stream",
          "name": "stdout",
          "text": [
            "Model telah disimpan menggunakan joblib.\n"
          ]
        }
      ]
    },
    {
      "cell_type": "code",
      "source": [
        "import pickle\n",
        "# Menyimpan model Logistic Regression\n",
        "with open('logreg_model.pkl', 'wb') as file:\n",
        "    pickle.dump(logreg_model, file)\n",
        "# Menyimpan model Decision Tree\n",
        "with open('tree_model.pkl', 'wb') as file:\n",
        "    pickle.dump(tree_model, file)\n",
        "# Menyimpan model K-Nearest Neighbors\n",
        "with open('knn_model.pkl', 'wb') as file:\n",
        "    pickle.dump(knn_model, file)\n",
        "\n",
        "print(\"Model telah disimpan menggunakan pickle.\")"
      ],
      "metadata": {
        "colab": {
          "base_uri": "https://localhost:8080/"
        },
        "id": "I6D9sPEG4-D3",
        "outputId": "45460acb-d0aa-48f2-e6db-a17246c85dfb"
      },
      "execution_count": 106,
      "outputs": [
        {
          "output_type": "stream",
          "name": "stdout",
          "text": [
            "Model telah disimpan menggunakan pickle.\n"
          ]
        }
      ]
    },
    {
      "cell_type": "markdown",
      "source": [
        "##Makefile"
      ],
      "metadata": {
        "id": "exQ2p8Z95dJQ"
      }
    },
    {
      "cell_type": "code",
      "source": [
        "import pandas as pd\n",
        "import numpy as np\n",
        "from sklearn.preprocessing import StandardScaler\n",
        "\n",
        "# Memuat data\n",
        "data = pd.read_csv('iris.csv')\n",
        "\n",
        "# Memisahkan fitur dan label\n",
        "X = data.iloc[:, :-1]\n",
        "y = data['variety']\n",
        "\n",
        "# Normalisasi fitur\n",
        "scaler = StandardScaler()\n",
        "X_scaled = scaler.fit_transform(X)\n",
        "\n",
        "# Menyimpan data yang telah diproses\n",
        "processed_data = pd.DataFrame(X_scaled, columns=data.columns[:-1])\n",
        "processed_data['variety'] = y\n",
        "processed_data.to_csv('processed_data.csv', index=False)"
      ],
      "metadata": {
        "id": "-2jWfTos5Fa7"
      },
      "execution_count": 107,
      "outputs": []
    },
    {
      "cell_type": "code",
      "source": [
        "import pandas as pd\n",
        "from sklearn.model_selection import train_test_split\n",
        "from sklearn.linear_model import LogisticRegression\n",
        "from sklearn.tree import DecisionTreeClassifier\n",
        "from sklearn.neighbors import KNeighborsClassifier\n",
        "import joblib\n",
        "\n",
        "# Memuat data yang telah diproses\n",
        "data = pd.read_csv('processed_data.csv')\n",
        "X = data.iloc[:, :-1]\n",
        "y = data['variety']\n",
        "\n",
        "# Membagi data\n",
        "X_train, X_test, y_train, y_test = train_test_split(X, y, test_size=0.2, random_state=42)\n",
        "\n",
        "# Melatih model\n",
        "logreg_model = LogisticRegression(random_state=42)\n",
        "logreg_model.fit(X_train, y_train)\n",
        "\n",
        "tree_model = DecisionTreeClassifier(random_state=42)\n",
        "tree_model.fit(X_train, y_train)\n",
        "\n",
        "knn_model = KNeighborsClassifier(n_neighbors=5)\n",
        "knn_model.fit(X_train, y_train)\n",
        "\n",
        "# Menyimpan model\n",
        "joblib.dump(logreg_model, 'logreg_model.pkl')\n",
        "joblib.dump(tree_model, 'tree_model.pkl')\n",
        "joblib.dump(knn_model, 'knn_model.pkl')"
      ],
      "metadata": {
        "colab": {
          "base_uri": "https://localhost:8080/"
        },
        "id": "S4iB7D9J5W5D",
        "outputId": "91cde460-aafc-4759-f414-5a8e2645ca2f"
      },
      "execution_count": 108,
      "outputs": [
        {
          "output_type": "execute_result",
          "data": {
            "text/plain": [
              "['knn_model.pkl']"
            ]
          },
          "metadata": {},
          "execution_count": 108
        }
      ]
    },
    {
      "cell_type": "code",
      "source": [
        "import pandas as pd\n",
        "from sklearn.metrics import accuracy_score, precision_score, recall_score, f1_score\n",
        "import joblib\n",
        "\n",
        "# Memuat data yang telah diproses\n",
        "data = pd.read_csv('processed_data.csv')\n",
        "X = data.iloc[:, :-1]\n",
        "y = data['variety']\n",
        "\n",
        "# Membagi data\n",
        "from sklearn.model_selection import train_test_split\n",
        "X_train, X_test, y_train, y_test = train_test_split(X, y, test_size=0.2, random_state=42)\n",
        "\n",
        "# Memuat model\n",
        "logreg_model = joblib.load('logreg_model.pkl')\n",
        "tree_model = joblib.load('tree_model.pkl')\n",
        "knn_model = joblib.load('knn_model.pkl')\n",
        "\n",
        "# Evaluasi model\n",
        "def evaluate_model(model, X_test, y_test, model_name):\n",
        "    y_pred = model.predict(X_test)\n",
        "    accuracy = accuracy_score(y_test, y_pred)\n",
        "    precision = precision_score(y_test, y_pred, average='weighted')\n",
        "    recall = recall_score(y_test, y_pred, average='weighted')\n",
        "    f1 = f1_score(y_test, y_pred, average='weighted')\n",
        "    return {\n",
        "        \"Model\": model_name,\n",
        "        \"Accuracy\": accuracy,\n",
        "        \"Precision\": precision,\n",
        "        \"Recall\": recall,\n",
        "        \"F1 Score\": f1\n",
        "    }\n",
        "\n",
        "# Evaluasi model\n",
        "logreg_results = evaluate_model(logreg_model, X_test, y_test, \"Logistic Regression\")\n",
        "tree_results = evaluate_model(tree_model, X_test, y_test, \"Decision Tree\")\n",
        "knn_results = evaluate_model(knn_model, X_test, y_test, \"K-Nearest Neighbors\")\n",
        "\n",
        "# Menyimpan hasil evaluasi\n",
        "with open('model_evaluation_results.txt', 'w') as f:\n",
        "    for results in [logreg_results, tree_results, knn_results]:\n",
        "        f.write(f\"Model: {results['Model']}\\n\")\n",
        "        f.write(f\"Accuracy: {results['Accuracy']:.4f}\\n\")\n",
        "        f.write(f\"Precision: {results['Precision']:.4f}\\n\")\n",
        "        f.write(f\"Recall: {results['Recall']:.4f}\\n\")\n",
        "        f.write(f\"F1 Score: {results['F1 Score']:.4f}\\n\")\n",
        "        f.write(\"\\n\")"
      ],
      "metadata": {
        "id": "lZhKKUfM6G8o"
      },
      "execution_count": 109,
      "outputs": []
    },
    {
      "cell_type": "code",
      "source": [
        "import joblib\n",
        "\n",
        "# Menyimpan model (dapat diubah jika sudah disimpan sebelumnya)\n",
        "# joblib.dump(logreg_model, 'logreg_model.pkl')\n",
        "# joblib.dump(tree_model, 'tree_model.pkl')\n",
        "# joblib.dump(knn_model, 'knn_model.pkl')\n",
        "\n",
        "print(\"Model telah disimpan.\")"
      ],
      "metadata": {
        "colab": {
          "base_uri": "https://localhost:8080/"
        },
        "id": "_e-30Kpe6L0k",
        "outputId": "b5dc0e35-6fdb-438e-d6aa-843f216808df"
      },
      "execution_count": 110,
      "outputs": [
        {
          "output_type": "stream",
          "name": "stdout",
          "text": [
            "Model telah disimpan.\n"
          ]
        }
      ]
    },
    {
      "cell_type": "markdown",
      "source": [
        "##Menyiapkan Lingkungan Kerja"
      ],
      "metadata": {
        "id": "j7bW0pRSCUb7"
      }
    },
    {
      "cell_type": "code",
      "source": [
        "import os\n",
        "import pandas as pd\n",
        "from sklearn.preprocessing import StandardScaler\n",
        "import requests\n",
        "\n",
        "# Fungsi untuk memastikan folder ada\n",
        "def ensure_directory_exists(directory):\n",
        "    if not os.path.exists(directory):\n",
        "        os.makedirs(directory)\n",
        "\n",
        "# Mengunduh dataset\n",
        "def download_data(url, save_path):\n",
        "    response = requests.get(url)\n",
        "    with open(save_path, 'wb') as file:\n",
        "        file.write(response.content)\n",
        "\n",
        "# Proses data\n",
        "def preprocess_data(input_path, output_path):\n",
        "    data = pd.read_csv(input_path)\n",
        "    X = data.iloc[:, :-1]\n",
        "    y = data.iloc[:, -1]\n",
        "\n",
        "    # Normalisasi fitur\n",
        "    scaler = StandardScaler()\n",
        "    X_scaled = scaler.fit_transform(X)\n",
        "\n",
        "    processed_data = pd.DataFrame(X_scaled, columns=X.columns)\n",
        "    processed_data['class'] = y\n",
        "\n",
        "    # Simpan data yang telah diproses\n",
        "    processed_data.to_csv(output_path, index=False)\n",
        "\n",
        "if __name__ == \"__main__\":\n",
        "    # Pastikan folder yang diperlukan ada\n",
        "    ensure_directory_exists('data/raw')\n",
        "    ensure_directory_exists('data/processed')\n",
        "\n",
        "    url = \"https://gist.githubusercontent.com/netj/8836201/raw/6f9306ad21398ea43cba4f7d537619d0e07d5ae3/iris.csv\"\n",
        "    download_data(url, 'data/raw/iris.csv')\n",
        "    preprocess_data('data/raw/iris.csv', 'data/processed/processed_data.csv')"
      ],
      "metadata": {
        "id": "IPc3NCzRCw2_"
      },
      "execution_count": 111,
      "outputs": []
    },
    {
      "cell_type": "code",
      "source": [
        "import os\n",
        "import pandas as pd\n",
        "from sklearn.model_selection import train_test_split\n",
        "from sklearn.linear_model import LogisticRegression\n",
        "from sklearn.tree import DecisionTreeClassifier\n",
        "from sklearn.neighbors import KNeighborsClassifier\n",
        "import joblib\n",
        "\n",
        "\n",
        "def ensure_directory_exists(directory):\n",
        "    if not os.path.exists(directory):\n",
        "        os.makedirs(directory)\n",
        "\n",
        "def train_and_save_models(data_path):\n",
        "    data = pd.read_csv(data_path)\n",
        "    X = data.iloc[:, :-1]\n",
        "    y = data['class']\n",
        "\n",
        "    X_train, X_test, y_train, y_test = train_test_split(X, y, test_size=0.2, random_state=42)\n",
        "\n",
        "    models = {\n",
        "        \"logreg_model\": LogisticRegression(random_state=42),\n",
        "        \"tree_model\": DecisionTreeClassifier(random_state=42),\n",
        "        \"knn_model\": KNeighborsClassifier(n_neighbors=5)\n",
        "    }\n",
        "\n",
        "    ensure_directory_exists('models')\n",
        "\n",
        "    for name, model in models.items():\n",
        "        model.fit(X_train, y_train)\n",
        "        joblib.dump(model, f'models/{name}.pkl')\n",
        "\n",
        "if __name__ == \"__main__\":\n",
        "    train_and_save_models('data/processed/processed_data.csv')"
      ],
      "metadata": {
        "id": "o-zLBNTa6PSo"
      },
      "execution_count": 112,
      "outputs": []
    },
    {
      "cell_type": "code",
      "source": [
        "import pandas as pd\n",
        "from sklearn.metrics import accuracy_score, precision_score, recall_score, f1_score\n",
        "import joblib\n",
        "\n",
        "# Fungsi untuk evaluasi model\n",
        "def evaluate_models(data_path):\n",
        "    data = pd.read_csv(data_path)\n",
        "    X = data.iloc[:, :-1]\n",
        "    y = data['class']\n",
        "    X_train, X_test, y_train, y_test = train_test_split(X, y, test_size=0.2, random_state=42)\n",
        "\n",
        "    models = {\n",
        "        \"logreg_model\": joblib.load('models/logreg_model.pkl'),\n",
        "        \"tree_model\": joblib.load('models/tree_model.pkl'),\n",
        "        \"knn_model\": joblib.load('models/knn_model.pkl')\n",
        "    }\n",
        "\n",
        "    results = []\n",
        "    for name, model in models.items():\n",
        "        y_pred = model.predict(X_test)\n",
        "        results.append({\n",
        "            \"Model\": name,\n",
        "            \"Accuracy\": accuracy_score(y_test, y_pred),\n",
        "            \"Precision\": precision_score(y_test, y_pred, average='weighted'),\n",
        "            \"Recall\": recall_score(y_test, y_pred, average='weighted'),\n",
        "            \"F1 Score\": f1_score(y_test, y_pred, average='weighted')\n",
        "        })\n",
        "\n",
        "    # Simpan hasil evaluasi\n",
        "    with open('results/model_evaluation_results.txt', 'w') as f:\n",
        "        for result in results:\n",
        "            f.write(f\"Model: {result['Model']}\\n\")\n",
        "            f.write(f\"Accuracy: {result['Accuracy']:.4f}\\n\")\n",
        "            f.write(f\"Precision: {result['Precision']:.4f}\\n\")\n",
        "            f.write(f\"Recall: {result['Recall']:.4f}\\n\")\n",
        "            f.write(f\"F1 Score: {result['F1 Score']:.4f}\\n\")\n",
        "            f.write(\"\\n\")\n",
        "\n",
        "if __name__ == \"__main__\":\n",
        "    evaluate_models('data/processed/processed_data.csv')\n"
      ],
      "metadata": {
        "id": "kt1w3XAPaA_U"
      },
      "execution_count": 113,
      "outputs": []
    },
    {
      "cell_type": "code",
      "source": [
        "import os\n",
        "import pandas as pd\n",
        "from sklearn.metrics import accuracy_score, precision_score, recall_score, f1_score\n",
        "from sklearn.model_selection import train_test_split\n",
        "import joblib\n",
        "\n",
        "# Fungsi untuk memastikan folder ada\n",
        "def ensure_directory_exists(directory):\n",
        "    if not os.path.exists(directory):\n",
        "        os.makedirs(directory)\n",
        "\n",
        "# Fungsi untuk evaluasi model\n",
        "def evaluate_models(data_path):\n",
        "    data = pd.read_csv(data_path)\n",
        "    X = data.iloc[:, :-1]\n",
        "    y = data['class']\n",
        "    X_train, X_test, y_train, y_test = train_test_split(X, y, test_size=0.2, random_state=42)\n",
        "\n",
        "    models = {\n",
        "        \"logreg_model\": joblib.load('models/logreg_model.pkl'),\n",
        "        \"tree_model\": joblib.load('models/tree_model.pkl'),\n",
        "        \"knn_model\": joblib.load('models/knn_model.pkl')\n",
        "    }\n",
        "\n",
        "    results = []\n",
        "    for name, model in models.items():\n",
        "        y_pred = model.predict(X_test)\n",
        "        results.append({\n",
        "            \"Model\": name,\n",
        "            \"Accuracy\": accuracy_score(y_test, y_pred),\n",
        "            \"Precision\": precision_score(y_test, y_pred, average='weighted'),\n",
        "            \"Recall\": recall_score(y_test, y_pred, average='weighted'),\n",
        "            \"F1 Score\": f1_score(y_test, y_pred, average='weighted')\n",
        "        })\n",
        "\n",
        "    # Pastikan folder untuk menyimpan hasil evaluasi ada\n",
        "    ensure_directory_exists('results')\n",
        "\n",
        "    # Simpan hasil evaluasi\n",
        "    with open('results/model_evaluation_results.txt', 'w') as f:\n",
        "        for result in results:\n",
        "            f.write(f\"Model: {result['Model']}\\n\")\n",
        "            f.write(f\"Accuracy: {result['Accuracy']:.4f}\\n\")\n",
        "            f.write(f\"Precision: {result['Precision']:.4f}\\n\")\n",
        "            f.write(f\"Recall: {result['Recall']:.4f}\\n\")\n",
        "            f.write(f\"F1 Score: {result['F1 Score']:.4f}\\n\")\n",
        "            f.write(\"\\n\")\n",
        "\n",
        "if __name__ == \"__main__\":\n",
        "    evaluate_models('data/processed/processed_data.csv')"
      ],
      "metadata": {
        "id": "-R-P5ejoaDmN"
      },
      "execution_count": 114,
      "outputs": []
    },
    {
      "cell_type": "markdown",
      "source": [
        "data_prep.py"
      ],
      "metadata": {
        "id": "TpK422cScd7z"
      }
    },
    {
      "cell_type": "code",
      "source": [
        "import os\n",
        "import pandas as pd\n",
        "import requests\n",
        "\n",
        "def download_data(url, dest_folder):\n",
        "    if not os.path.exists(dest_folder):\n",
        "        os.makedirs(dest_folder)\n",
        "    response = requests.get(url)\n",
        "    file_path = os.path.join(dest_folder, 'data.csv')\n",
        "    with open(file_path, 'wb') as file:\n",
        "        file.write(response.content)\n",
        "    print(f\"Data downloaded to {file_path}\")\n",
        "\n",
        "def preprocess_data(file_path):\n",
        "    data = pd.read_csv(file_path)\n",
        "    data = data.dropna()\n",
        "    processed_file_path = file_path.replace('.csv', '_processed.csv')\n",
        "    data.to_csv(processed_file_path, index=False)\n",
        "    print(f\"Data processed and saved to {processed_file_path}\")\n",
        "\n",
        "if __name__ == \"__main__\":\n",
        "    data_url = \"https://gist.githubusercontent.com/netj/8836201/raw/6f9306ad21398ea43cba4f7d537619d0e07d5ae3/iris.csv\"\n",
        "    data_folder = \"data\"\n",
        "    download_data(data_url, data_folder)\n",
        "    preprocess_data(os.path.join(data_folder, 'data.csv'))"
      ],
      "metadata": {
        "colab": {
          "base_uri": "https://localhost:8080/"
        },
        "id": "onIlrM2LaGD3",
        "outputId": "f3ef17be-9d61-453c-e1c8-316b60e39df9"
      },
      "execution_count": 117,
      "outputs": [
        {
          "output_type": "stream",
          "name": "stdout",
          "text": [
            "Data downloaded to data/data.csv\n",
            "Data processed and saved to data/data_processed.csv\n"
          ]
        }
      ]
    },
    {
      "cell_type": "markdown",
      "source": [
        "##evaluation"
      ],
      "metadata": {
        "id": "PwoGWv8YdpIu"
      }
    },
    {
      "cell_type": "code",
      "source": [
        "import pandas as pd\n",
        "from sklearn.model_selection import train_test_split\n",
        "from sklearn.ensemble import RandomForestClassifier\n",
        "from sklearn.metrics import accuracy_score\n",
        "import joblib\n",
        "\n",
        "def train_model(data_path):\n",
        "    data = pd.read_csv(data_path)\n",
        "    X = data.iloc[:, :-1]\n",
        "    y = data['variety']\n",
        "    X_train, X_test, y_train, y_test = train_test_split(X, y, test_size=0.2, random_state=42)\n",
        "\n",
        "    model = RandomForestClassifier()\n",
        "    model.fit(X_train, y_train)\n",
        "\n",
        "    predictions = model.predict(X_test)\n",
        "    accuracy = accuracy_score(y_test, predictions)\n",
        "    print(f\"Model accuracy: {accuracy:.2f}\")\n",
        "\n",
        "    model_file_path = \"models/model.pkl\"\n",
        "    joblib.dump(model, model_file_path)\n",
        "    print(f\"Model saved to {model_file_path}\")\n",
        "\n",
        "if __name__ == \"__main__\":\n",
        "    data_file_path = \"data/data_processed.csv\"  # Ganti dengan jalur data Anda\n",
        "    train_model(data_file_path)\n"
      ],
      "metadata": {
        "colab": {
          "base_uri": "https://localhost:8080/"
        },
        "id": "6ku7BKsbclyI",
        "outputId": "bc633468-e57d-4aba-9de2-0ce270f0267e"
      },
      "execution_count": 120,
      "outputs": [
        {
          "output_type": "stream",
          "name": "stdout",
          "text": [
            "Model accuracy: 1.00\n",
            "Model saved to models/model.pkl\n"
          ]
        }
      ]
    },
    {
      "cell_type": "markdown",
      "source": [
        "##deploy\n"
      ],
      "metadata": {
        "id": "ZtO4kl7tfYGU"
      }
    },
    {
      "cell_type": "code",
      "source": [
        "from flask import Flask, request, jsonify\n",
        "import joblib\n",
        "import pandas as pd\n",
        "\n",
        "app = Flask(__name__)\n",
        "model = joblib.load('models/model.pkl')\n",
        "\n",
        "@app.route('/predict', methods=['POST'])\n",
        "def predict():\n",
        "    data = request.get_json()\n",
        "    df = pd.DataFrame(data)\n",
        "    predictions = model.predict(df)\n",
        "    return jsonify(predictions.tolist())\n",
        "\n",
        "if __name__ == \"__main__\":\n",
        "    app.run(port=5000)"
      ],
      "metadata": {
        "colab": {
          "base_uri": "https://localhost:8080/"
        },
        "id": "zwvbJyqJdy8z",
        "outputId": "5cb0c06c-d56a-4c41-9406-5bcef6898a45"
      },
      "execution_count": 121,
      "outputs": [
        {
          "output_type": "stream",
          "name": "stdout",
          "text": [
            " * Serving Flask app '__main__'\n",
            " * Debug mode: off\n"
          ]
        },
        {
          "output_type": "stream",
          "name": "stderr",
          "text": [
            "INFO:werkzeug:\u001b[31m\u001b[1mWARNING: This is a development server. Do not use it in a production deployment. Use a production WSGI server instead.\u001b[0m\n",
            " * Running on http://127.0.0.1:5000\n",
            "INFO:werkzeug:\u001b[33mPress CTRL+C to quit\u001b[0m\n"
          ]
        }
      ]
    }
  ]
}